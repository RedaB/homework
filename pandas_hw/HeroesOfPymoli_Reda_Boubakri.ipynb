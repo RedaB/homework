{
 "cells": [
  {
   "cell_type": "markdown",
   "metadata": {},
   "source": [
    "## Heroes Of Pymoli Homework - Reda Boubakri"
   ]
  },
  {
   "cell_type": "markdown",
   "metadata": {},
   "source": [
    "## Dependencies"
   ]
  },
  {
   "cell_type": "code",
   "execution_count": 1,
   "metadata": {},
   "outputs": [],
   "source": [
    "# Dependencies \n",
    "import pandas as pd\n",
    "import numpy as np\n"
   ]
  },
  {
   "cell_type": "markdown",
   "metadata": {},
   "source": [
    "## File Path"
   ]
  },
  {
   "cell_type": "code",
   "execution_count": 2,
   "metadata": {},
   "outputs": [],
   "source": [
    "# File Path\n",
    "data_source = \"purchase_data.csv\"\n"
   ]
  },
  {
   "cell_type": "code",
   "execution_count": 3,
   "metadata": {
    "scrolled": false
   },
   "outputs": [
    {
     "data": {
      "text/html": [
       "<div>\n",
       "<style scoped>\n",
       "    .dataframe tbody tr th:only-of-type {\n",
       "        vertical-align: middle;\n",
       "    }\n",
       "\n",
       "    .dataframe tbody tr th {\n",
       "        vertical-align: top;\n",
       "    }\n",
       "\n",
       "    .dataframe thead th {\n",
       "        text-align: right;\n",
       "    }\n",
       "</style>\n",
       "<table border=\"1\" class=\"dataframe\">\n",
       "  <thead>\n",
       "    <tr style=\"text-align: right;\">\n",
       "      <th></th>\n",
       "      <th>Purchase ID</th>\n",
       "      <th>SN</th>\n",
       "      <th>Age</th>\n",
       "      <th>Gender</th>\n",
       "      <th>Item ID</th>\n",
       "      <th>Item Name</th>\n",
       "      <th>Price</th>\n",
       "    </tr>\n",
       "  </thead>\n",
       "  <tbody>\n",
       "    <tr>\n",
       "      <th>0</th>\n",
       "      <td>0</td>\n",
       "      <td>Lisim78</td>\n",
       "      <td>20</td>\n",
       "      <td>Male</td>\n",
       "      <td>108</td>\n",
       "      <td>Extraction, Quickblade Of Trembling Hands</td>\n",
       "      <td>3.53</td>\n",
       "    </tr>\n",
       "    <tr>\n",
       "      <th>1</th>\n",
       "      <td>1</td>\n",
       "      <td>Lisovynya38</td>\n",
       "      <td>40</td>\n",
       "      <td>Male</td>\n",
       "      <td>143</td>\n",
       "      <td>Frenzied Scimitar</td>\n",
       "      <td>1.56</td>\n",
       "    </tr>\n",
       "    <tr>\n",
       "      <th>2</th>\n",
       "      <td>2</td>\n",
       "      <td>Ithergue48</td>\n",
       "      <td>24</td>\n",
       "      <td>Male</td>\n",
       "      <td>92</td>\n",
       "      <td>Final Critic</td>\n",
       "      <td>4.88</td>\n",
       "    </tr>\n",
       "    <tr>\n",
       "      <th>3</th>\n",
       "      <td>3</td>\n",
       "      <td>Chamassasya86</td>\n",
       "      <td>24</td>\n",
       "      <td>Male</td>\n",
       "      <td>100</td>\n",
       "      <td>Blindscythe</td>\n",
       "      <td>3.27</td>\n",
       "    </tr>\n",
       "    <tr>\n",
       "      <th>4</th>\n",
       "      <td>4</td>\n",
       "      <td>Iskosia90</td>\n",
       "      <td>23</td>\n",
       "      <td>Male</td>\n",
       "      <td>131</td>\n",
       "      <td>Fury</td>\n",
       "      <td>1.44</td>\n",
       "    </tr>\n",
       "  </tbody>\n",
       "</table>\n",
       "</div>"
      ],
      "text/plain": [
       "   Purchase ID             SN  Age Gender  Item ID  \\\n",
       "0            0        Lisim78   20   Male      108   \n",
       "1            1    Lisovynya38   40   Male      143   \n",
       "2            2     Ithergue48   24   Male       92   \n",
       "3            3  Chamassasya86   24   Male      100   \n",
       "4            4      Iskosia90   23   Male      131   \n",
       "\n",
       "                                   Item Name  Price  \n",
       "0  Extraction, Quickblade Of Trembling Hands   3.53  \n",
       "1                          Frenzied Scimitar   1.56  \n",
       "2                               Final Critic   4.88  \n",
       "3                                Blindscythe   3.27  \n",
       "4                                       Fury   1.44  "
      ]
     },
     "execution_count": 3,
     "metadata": {},
     "output_type": "execute_result"
    }
   ],
   "source": [
    "# Reading Purchasing File and Storing it Into Pandas Data Frame\n",
    "purchase_data = pd.read_csv(data_source)\n",
    "purchase_data.head()\n"
   ]
  },
  {
   "cell_type": "markdown",
   "metadata": {},
   "source": [
    "## Player Count"
   ]
  },
  {
   "cell_type": "code",
   "execution_count": 4,
   "metadata": {},
   "outputs": [
    {
     "data": {
      "text/html": [
       "<div>\n",
       "<style scoped>\n",
       "    .dataframe tbody tr th:only-of-type {\n",
       "        vertical-align: middle;\n",
       "    }\n",
       "\n",
       "    .dataframe tbody tr th {\n",
       "        vertical-align: top;\n",
       "    }\n",
       "\n",
       "    .dataframe thead th {\n",
       "        text-align: right;\n",
       "    }\n",
       "</style>\n",
       "<table border=\"1\" class=\"dataframe\">\n",
       "  <thead>\n",
       "    <tr style=\"text-align: right;\">\n",
       "      <th></th>\n",
       "      <th>total_players</th>\n",
       "    </tr>\n",
       "  </thead>\n",
       "  <tbody>\n",
       "    <tr>\n",
       "      <th>0</th>\n",
       "      <td>576</td>\n",
       "    </tr>\n",
       "  </tbody>\n",
       "</table>\n",
       "</div>"
      ],
      "text/plain": [
       "   total_players\n",
       "0            576"
      ]
     },
     "execution_count": 4,
     "metadata": {},
     "output_type": "execute_result"
    }
   ],
   "source": [
    "# Calculating and Creating Total Players Data Frame\n",
    "total_players = len(purchase_data['SN'].value_counts())\n",
    "total_players_df = pd.DataFrame([total_players], columns = [\"total_players\"])\n",
    "total_players_df\n"
   ]
  },
  {
   "cell_type": "markdown",
   "metadata": {},
   "source": [
    "## Purchasing Analysis (Total)"
   ]
  },
  {
   "cell_type": "code",
   "execution_count": 5,
   "metadata": {},
   "outputs": [
    {
     "data": {
      "text/html": [
       "<div>\n",
       "<style scoped>\n",
       "    .dataframe tbody tr th:only-of-type {\n",
       "        vertical-align: middle;\n",
       "    }\n",
       "\n",
       "    .dataframe tbody tr th {\n",
       "        vertical-align: top;\n",
       "    }\n",
       "\n",
       "    .dataframe thead th {\n",
       "        text-align: right;\n",
       "    }\n",
       "</style>\n",
       "<table border=\"1\" class=\"dataframe\">\n",
       "  <thead>\n",
       "    <tr style=\"text-align: right;\">\n",
       "      <th></th>\n",
       "      <th>Number of Unique Items</th>\n",
       "      <th>Average Price</th>\n",
       "      <th>Number of Purchases</th>\n",
       "      <th>Total Revenue</th>\n",
       "    </tr>\n",
       "  </thead>\n",
       "  <tbody>\n",
       "    <tr>\n",
       "      <th>0</th>\n",
       "      <td>183</td>\n",
       "      <td>$3.05</td>\n",
       "      <td>780</td>\n",
       "      <td>$2379.77</td>\n",
       "    </tr>\n",
       "  </tbody>\n",
       "</table>\n",
       "</div>"
      ],
      "text/plain": [
       "   Number of Unique Items Average Price  Number of Purchases Total Revenue\n",
       "0                     183         $3.05                  780      $2379.77"
      ]
     },
     "execution_count": 5,
     "metadata": {},
     "output_type": "execute_result"
    }
   ],
   "source": [
    "# Calculating Number of Unique Items\n",
    "unique_items = len(purchase_data['Item ID'].value_counts())\n",
    "\n",
    "# Calculating Average Purchase Price                        \n",
    "average_price = round(purchase_data['Price'].mean(), 2)\n",
    "\n",
    "# Calculating Total Number of Purchases\n",
    "purchases_number = purchase_data['Price'].count()\n",
    "\n",
    "# Calculating Total Revenue\n",
    "total_revenue = round(purchase_data['Price'].sum(), 2)                           \n",
    "\n",
    "# Creating List for Analysis\n",
    "purchase_analysis = []\n",
    "\n",
    "# Appending values to list\n",
    "purchase_analysis.append(unique_items)\n",
    "purchase_analysis.append(\"$\" + str(average_price))\n",
    "purchase_analysis.append(purchases_number)\n",
    "purchase_analysis.append(\"$\" + str(total_revenue))\n",
    "\n",
    "# Creating the DataFrame\n",
    "purchase_analysis = pd.DataFrame([purchase_analysis], columns = [\"Number of Unique Items\", \n",
    "                                                                  \"Average Price\", \n",
    "                                                                  \"Number of Purchases\", \n",
    "                                                                  \"Total Revenue\"])\n",
    "purchase_analysis.head()\n"
   ]
  },
  {
   "cell_type": "markdown",
   "metadata": {},
   "source": [
    "## Gender Demographics"
   ]
  },
  {
   "cell_type": "code",
   "execution_count": 6,
   "metadata": {},
   "outputs": [
    {
     "data": {
      "text/html": [
       "<style  type=\"text/css\" >\n",
       "</style>  \n",
       "<table id=\"T_cf174414_bc7e_11e8_947b_acde48001122\" > \n",
       "<thead>    <tr> \n",
       "        <th class=\"blank level0\" ></th> \n",
       "        <th class=\"col_heading level0 col0\" >Total Counts</th> \n",
       "        <th class=\"col_heading level0 col1\" >Percentage of Players</th> \n",
       "    </tr></thead> \n",
       "<tbody>    <tr> \n",
       "        <th id=\"T_cf174414_bc7e_11e8_947b_acde48001122level0_row0\" class=\"row_heading level0 row0\" >Male</th> \n",
       "        <td id=\"T_cf174414_bc7e_11e8_947b_acde48001122row0_col0\" class=\"data row0 col0\" >484</td> \n",
       "        <td id=\"T_cf174414_bc7e_11e8_947b_acde48001122row0_col1\" class=\"data row0 col1\" >84.03%</td> \n",
       "    </tr>    <tr> \n",
       "        <th id=\"T_cf174414_bc7e_11e8_947b_acde48001122level0_row1\" class=\"row_heading level0 row1\" >Female</th> \n",
       "        <td id=\"T_cf174414_bc7e_11e8_947b_acde48001122row1_col0\" class=\"data row1 col0\" >81</td> \n",
       "        <td id=\"T_cf174414_bc7e_11e8_947b_acde48001122row1_col1\" class=\"data row1 col1\" >14.06%</td> \n",
       "    </tr>    <tr> \n",
       "        <th id=\"T_cf174414_bc7e_11e8_947b_acde48001122level0_row2\" class=\"row_heading level0 row2\" >Other / Non-Disclosed</th> \n",
       "        <td id=\"T_cf174414_bc7e_11e8_947b_acde48001122row2_col0\" class=\"data row2 col0\" >11</td> \n",
       "        <td id=\"T_cf174414_bc7e_11e8_947b_acde48001122row2_col1\" class=\"data row2 col1\" >1.91%</td> \n",
       "    </tr></tbody> \n",
       "</table> "
      ],
      "text/plain": [
       "<pandas.io.formats.style.Styler at 0x10c615dd8>"
      ]
     },
     "execution_count": 6,
     "metadata": {},
     "output_type": "execute_result"
    }
   ],
   "source": [
    "# Calculating Total of Gender\n",
    "gender_data = purchase_data[['SN','Gender']]\n",
    "gender_data = gender_data.drop_duplicates()\n",
    "gender_total = gender_data['Gender'].count()\n",
    "\n",
    "# Calculating Male, Female and Non Gender Totals\n",
    "males = gender_data['Gender'].value_counts()['Male']\n",
    "females = gender_data['Gender'].value_counts()['Female']\n",
    "other_gender = gender_total - males - females\n",
    "\n",
    "#Calculating each gender percent\n",
    "male_percent = males / gender_total * 100\n",
    "female_percent = females / gender_total * 100\n",
    "other_gender_percent = other_gender / gender_total * 100\n",
    "\n",
    "#Creating DataFrame & setting index and Formatting\n",
    "gender_demographics = pd.DataFrame({\"Total Counts\" : [males, females, other_gender], \n",
    "                                   \"Percentage of Players\" : [male_percent, female_percent, other_gender_percent]})\n",
    "\n",
    "gender_demographics.index = ([\"Male\", \"Female\", \"Other / Non-Disclosed\"])\n",
    "\n",
    "gender_demographics.style.format({\"Percentage of Players\" : \"{:.2f}%\"})\n"
   ]
  },
  {
   "cell_type": "markdown",
   "metadata": {},
   "source": [
    "\n",
    "## Purchasing Analysis (Gender)"
   ]
  },
  {
   "cell_type": "code",
   "execution_count": 7,
   "metadata": {},
   "outputs": [
    {
     "data": {
      "text/html": [
       "<style  type=\"text/css\" >\n",
       "</style>  \n",
       "<table id=\"T_cf5d38ac_bc7e_11e8_812e_acde48001122\" > \n",
       "<thead>    <tr> \n",
       "        <th class=\"blank level0\" ></th> \n",
       "        <th class=\"col_heading level0 col0\" >Purchase Count</th> \n",
       "        <th class=\"col_heading level0 col1\" >Average Purchase Price</th> \n",
       "        <th class=\"col_heading level0 col2\" >Total Purchase Value</th> \n",
       "        <th class=\"col_heading level0 col3\" >Avg Total Purchase per Person</th> \n",
       "    </tr>    <tr> \n",
       "        <th class=\"index_name level0\" >Gender</th> \n",
       "        <th class=\"blank\" ></th> \n",
       "        <th class=\"blank\" ></th> \n",
       "        <th class=\"blank\" ></th> \n",
       "        <th class=\"blank\" ></th> \n",
       "    </tr></thead> \n",
       "<tbody>    <tr> \n",
       "        <th id=\"T_cf5d38ac_bc7e_11e8_812e_acde48001122level0_row0\" class=\"row_heading level0 row0\" >Female</th> \n",
       "        <td id=\"T_cf5d38ac_bc7e_11e8_812e_acde48001122row0_col0\" class=\"data row0 col0\" >113</td> \n",
       "        <td id=\"T_cf5d38ac_bc7e_11e8_812e_acde48001122row0_col1\" class=\"data row0 col1\" >$3.20</td> \n",
       "        <td id=\"T_cf5d38ac_bc7e_11e8_812e_acde48001122row0_col2\" class=\"data row0 col2\" >$361.94</td> \n",
       "        <td id=\"T_cf5d38ac_bc7e_11e8_812e_acde48001122row0_col3\" class=\"data row0 col3\" >$4.47</td> \n",
       "    </tr>    <tr> \n",
       "        <th id=\"T_cf5d38ac_bc7e_11e8_812e_acde48001122level0_row1\" class=\"row_heading level0 row1\" >Male</th> \n",
       "        <td id=\"T_cf5d38ac_bc7e_11e8_812e_acde48001122row1_col0\" class=\"data row1 col0\" >652</td> \n",
       "        <td id=\"T_cf5d38ac_bc7e_11e8_812e_acde48001122row1_col1\" class=\"data row1 col1\" >$3.02</td> \n",
       "        <td id=\"T_cf5d38ac_bc7e_11e8_812e_acde48001122row1_col2\" class=\"data row1 col2\" >$1967.64</td> \n",
       "        <td id=\"T_cf5d38ac_bc7e_11e8_812e_acde48001122row1_col3\" class=\"data row1 col3\" >$4.07</td> \n",
       "    </tr>    <tr> \n",
       "        <th id=\"T_cf5d38ac_bc7e_11e8_812e_acde48001122level0_row2\" class=\"row_heading level0 row2\" >Other / Non-Disclosed</th> \n",
       "        <td id=\"T_cf5d38ac_bc7e_11e8_812e_acde48001122row2_col0\" class=\"data row2 col0\" >15</td> \n",
       "        <td id=\"T_cf5d38ac_bc7e_11e8_812e_acde48001122row2_col1\" class=\"data row2 col1\" >$3.35</td> \n",
       "        <td id=\"T_cf5d38ac_bc7e_11e8_812e_acde48001122row2_col2\" class=\"data row2 col2\" >$50.19</td> \n",
       "        <td id=\"T_cf5d38ac_bc7e_11e8_812e_acde48001122row2_col3\" class=\"data row2 col3\" >$4.56</td> \n",
       "    </tr></tbody> \n",
       "</table> "
      ],
      "text/plain": [
       "<pandas.io.formats.style.Styler at 0x10d8f0eb8>"
      ]
     },
     "execution_count": 7,
     "metadata": {},
     "output_type": "execute_result"
    }
   ],
   "source": [
    "# Total Number of Purchases by Gender.\n",
    "purchases_count_by_gender = purchase_data.groupby('Gender')['Item Name'].count()\n",
    "\n",
    "# Average Purchase Price of Items by Gender.\n",
    "average_price_by_gender = round(purchase_data.groupby('Gender')['Price'].mean(), 2)\n",
    "\n",
    "# Total Purchase Value by Gender.\n",
    "total_purchase_value = purchase_data.groupby('Gender')['Price'].sum()\n",
    "\n",
    "# Average Purchase Total Per Person by Gender\n",
    "average_purchase_by_gender = round(total_purchase_value / [females, males, other_gender], 2)\n",
    "\n",
    "# Creating DataFrame and Formattging\n",
    "purchase_gender = pd.DataFrame({\"Purchase Count\": purchases_count_by_gender,\n",
    "                             \"Average Purchase Price\": average_price_by_gender,\n",
    "                             \"Total Purchase Value\": total_purchase_value,\n",
    "                             \"Avg Total Purchase per Person\" : average_purchase_by_gender})\n",
    "purchase_gender.style.format({\"Average Purchase Price\" : '${:.2f}',\n",
    "                             \"Total Purchase Value\" : '${:.2f}',\n",
    "                             \"Avg Total Purchase per Person\" : '${:.2f}'})\n"
   ]
  },
  {
   "cell_type": "markdown",
   "metadata": {},
   "source": [
    "\n",
    "## Age Demographics"
   ]
  },
  {
   "cell_type": "code",
   "execution_count": 8,
   "metadata": {},
   "outputs": [
    {
     "data": {
      "text/html": [
       "<div>\n",
       "<style scoped>\n",
       "    .dataframe tbody tr th:only-of-type {\n",
       "        vertical-align: middle;\n",
       "    }\n",
       "\n",
       "    .dataframe tbody tr th {\n",
       "        vertical-align: top;\n",
       "    }\n",
       "\n",
       "    .dataframe thead th {\n",
       "        text-align: right;\n",
       "    }\n",
       "</style>\n",
       "<table border=\"1\" class=\"dataframe\">\n",
       "  <thead>\n",
       "    <tr style=\"text-align: right;\">\n",
       "      <th></th>\n",
       "      <th>Total Count</th>\n",
       "      <th>Percent of Players</th>\n",
       "    </tr>\n",
       "  </thead>\n",
       "  <tbody>\n",
       "    <tr>\n",
       "      <th>&lt;10</th>\n",
       "      <td>17</td>\n",
       "      <td>2.95</td>\n",
       "    </tr>\n",
       "    <tr>\n",
       "      <th>10-14</th>\n",
       "      <td>22</td>\n",
       "      <td>3.82</td>\n",
       "    </tr>\n",
       "    <tr>\n",
       "      <th>15-19</th>\n",
       "      <td>107</td>\n",
       "      <td>18.58</td>\n",
       "    </tr>\n",
       "    <tr>\n",
       "      <th>20-24</th>\n",
       "      <td>258</td>\n",
       "      <td>44.79</td>\n",
       "    </tr>\n",
       "    <tr>\n",
       "      <th>25-29</th>\n",
       "      <td>77</td>\n",
       "      <td>13.37</td>\n",
       "    </tr>\n",
       "    <tr>\n",
       "      <th>30-34</th>\n",
       "      <td>52</td>\n",
       "      <td>9.03</td>\n",
       "    </tr>\n",
       "    <tr>\n",
       "      <th>35-39</th>\n",
       "      <td>31</td>\n",
       "      <td>5.38</td>\n",
       "    </tr>\n",
       "    <tr>\n",
       "      <th>40+</th>\n",
       "      <td>12</td>\n",
       "      <td>2.08</td>\n",
       "    </tr>\n",
       "  </tbody>\n",
       "</table>\n",
       "</div>"
      ],
      "text/plain": [
       "       Total Count  Percent of Players\n",
       "<10             17                2.95\n",
       "10-14           22                3.82\n",
       "15-19          107               18.58\n",
       "20-24          258               44.79\n",
       "25-29           77               13.37\n",
       "30-34           52                9.03\n",
       "35-39           31                5.38\n",
       "40+             12                2.08"
      ]
     },
     "execution_count": 8,
     "metadata": {},
     "output_type": "execute_result"
    }
   ],
   "source": [
    "# Dropping Duplicates\n",
    "age_demo_data = purchase_data[[\"SN\",\"Age\"]]\n",
    "age_demo_data = age_demo_data.drop_duplicates()\n",
    "\n",
    "# Age count\n",
    "age10 = age_demo_data[age_demo_data[\"Age\"] < 10].count()[0]\n",
    "age14 = age_demo_data[(age_demo_data[\"Age\"] >= 10) & (age_demo_data[\"Age\"] <= 14)].count()[0]\n",
    "age19 = age_demo_data[(age_demo_data[\"Age\"] >= 15) & (age_demo_data[\"Age\"] <= 19)].count()[0]\n",
    "age24 = age_demo_data[(age_demo_data[\"Age\"] >= 20) & (age_demo_data[\"Age\"] <= 24)].count()[0]\n",
    "age29 = age_demo_data[(age_demo_data[\"Age\"] >= 25) & (age_demo_data[\"Age\"] <= 29)].count()[0]\n",
    "age34 = age_demo_data[(age_demo_data[\"Age\"] >= 30) & (age_demo_data[\"Age\"] <= 34)].count()[0]\n",
    "age39 = age_demo_data[(age_demo_data[\"Age\"] >= 35) & (age_demo_data[\"Age\"] <= 39)].count()[0]\n",
    "age40 = age_demo_data[age_demo_data[\"Age\"] >= 40].count()[0]\n",
    "\n",
    "# Age Bins\n",
    "ages = [age10, age14, age19, age24, age29, age34, age39, age40]\n",
    "\n",
    "# Percents\n",
    "percent10 = round((age10/total_players)*100,2)\n",
    "percent14 = round((age14/total_players)*100,2)\n",
    "percent19 = round((age19/total_players)*100,2)\n",
    "percent24 = round((age24/total_players)*100,2)\n",
    "percent29 = round((age29/total_players)*100,2)\n",
    "percent34 = round((age34/total_players)*100,2)\n",
    "percent39 = round((age39/total_players)*100,2)\n",
    "percent40 = round((age40/total_players)*100,2)\n",
    "\n",
    "# Percents Bins\n",
    "percents = [percent10, percent14, percent19, percent24, percent29, percent34, percent39, percent40]\n",
    "\n",
    "# Creating the dictionary\n",
    "age_demographics = {\"Total Count\": ages,\"Percent of Players\": percents}\n",
    "\n",
    "# Creating DataFrame & setting index\n",
    "age_demographics_df = pd.DataFrame(age_demographics)\n",
    "age_demographics_df.index = ([\"<10\", \"10-14\", \"15-19\", \"20-24\", \"25-29\", \"30-34\", \"35-39\", \"40+\"])\n",
    "age_demographics_df\n"
   ]
  },
  {
   "cell_type": "markdown",
   "metadata": {},
   "source": [
    "## Purchasing Analysis (Age)"
   ]
  },
  {
   "cell_type": "code",
   "execution_count": 9,
   "metadata": {},
   "outputs": [
    {
     "data": {
      "text/html": [
       "<style  type=\"text/css\" >\n",
       "</style>  \n",
       "<table id=\"T_cffa8e68_bc7e_11e8_bc35_acde48001122\" > \n",
       "<thead>    <tr> \n",
       "        <th class=\"blank level0\" ></th> \n",
       "        <th class=\"col_heading level0 col0\" >Purchase Count</th> \n",
       "        <th class=\"col_heading level0 col1\" >Average Purchase Price</th> \n",
       "        <th class=\"col_heading level0 col2\" >Total Purchase Value</th> \n",
       "        <th class=\"col_heading level0 col3\" >Avg Total Purchase per Person</th> \n",
       "    </tr></thead> \n",
       "<tbody>    <tr> \n",
       "        <th id=\"T_cffa8e68_bc7e_11e8_bc35_acde48001122level0_row0\" class=\"row_heading level0 row0\" ><10</th> \n",
       "        <td id=\"T_cffa8e68_bc7e_11e8_bc35_acde48001122row0_col0\" class=\"data row0 col0\" >23</td> \n",
       "        <td id=\"T_cffa8e68_bc7e_11e8_bc35_acde48001122row0_col1\" class=\"data row0 col1\" >$3.35</td> \n",
       "        <td id=\"T_cffa8e68_bc7e_11e8_bc35_acde48001122row0_col2\" class=\"data row0 col2\" >$77.13</td> \n",
       "        <td id=\"T_cffa8e68_bc7e_11e8_bc35_acde48001122row0_col3\" class=\"data row0 col3\" >$4.54</td> \n",
       "    </tr>    <tr> \n",
       "        <th id=\"T_cffa8e68_bc7e_11e8_bc35_acde48001122level0_row1\" class=\"row_heading level0 row1\" >10-14</th> \n",
       "        <td id=\"T_cffa8e68_bc7e_11e8_bc35_acde48001122row1_col0\" class=\"data row1 col0\" >28</td> \n",
       "        <td id=\"T_cffa8e68_bc7e_11e8_bc35_acde48001122row1_col1\" class=\"data row1 col1\" >$2.96</td> \n",
       "        <td id=\"T_cffa8e68_bc7e_11e8_bc35_acde48001122row1_col2\" class=\"data row1 col2\" >$82.78</td> \n",
       "        <td id=\"T_cffa8e68_bc7e_11e8_bc35_acde48001122row1_col3\" class=\"data row1 col3\" >$3.76</td> \n",
       "    </tr>    <tr> \n",
       "        <th id=\"T_cffa8e68_bc7e_11e8_bc35_acde48001122level0_row2\" class=\"row_heading level0 row2\" >15-19</th> \n",
       "        <td id=\"T_cffa8e68_bc7e_11e8_bc35_acde48001122row2_col0\" class=\"data row2 col0\" >136</td> \n",
       "        <td id=\"T_cffa8e68_bc7e_11e8_bc35_acde48001122row2_col1\" class=\"data row2 col1\" >$3.04</td> \n",
       "        <td id=\"T_cffa8e68_bc7e_11e8_bc35_acde48001122row2_col2\" class=\"data row2 col2\" >$412.89</td> \n",
       "        <td id=\"T_cffa8e68_bc7e_11e8_bc35_acde48001122row2_col3\" class=\"data row2 col3\" >$3.86</td> \n",
       "    </tr>    <tr> \n",
       "        <th id=\"T_cffa8e68_bc7e_11e8_bc35_acde48001122level0_row3\" class=\"row_heading level0 row3\" >20-24</th> \n",
       "        <td id=\"T_cffa8e68_bc7e_11e8_bc35_acde48001122row3_col0\" class=\"data row3 col0\" >365</td> \n",
       "        <td id=\"T_cffa8e68_bc7e_11e8_bc35_acde48001122row3_col1\" class=\"data row3 col1\" >$3.05</td> \n",
       "        <td id=\"T_cffa8e68_bc7e_11e8_bc35_acde48001122row3_col2\" class=\"data row3 col2\" >$1114.06</td> \n",
       "        <td id=\"T_cffa8e68_bc7e_11e8_bc35_acde48001122row3_col3\" class=\"data row3 col3\" >$4.32</td> \n",
       "    </tr>    <tr> \n",
       "        <th id=\"T_cffa8e68_bc7e_11e8_bc35_acde48001122level0_row4\" class=\"row_heading level0 row4\" >25-29</th> \n",
       "        <td id=\"T_cffa8e68_bc7e_11e8_bc35_acde48001122row4_col0\" class=\"data row4 col0\" >101</td> \n",
       "        <td id=\"T_cffa8e68_bc7e_11e8_bc35_acde48001122row4_col1\" class=\"data row4 col1\" >$2.90</td> \n",
       "        <td id=\"T_cffa8e68_bc7e_11e8_bc35_acde48001122row4_col2\" class=\"data row4 col2\" >$293.00</td> \n",
       "        <td id=\"T_cffa8e68_bc7e_11e8_bc35_acde48001122row4_col3\" class=\"data row4 col3\" >$3.81</td> \n",
       "    </tr>    <tr> \n",
       "        <th id=\"T_cffa8e68_bc7e_11e8_bc35_acde48001122level0_row5\" class=\"row_heading level0 row5\" >30-34</th> \n",
       "        <td id=\"T_cffa8e68_bc7e_11e8_bc35_acde48001122row5_col0\" class=\"data row5 col0\" >73</td> \n",
       "        <td id=\"T_cffa8e68_bc7e_11e8_bc35_acde48001122row5_col1\" class=\"data row5 col1\" >$2.93</td> \n",
       "        <td id=\"T_cffa8e68_bc7e_11e8_bc35_acde48001122row5_col2\" class=\"data row5 col2\" >$214.00</td> \n",
       "        <td id=\"T_cffa8e68_bc7e_11e8_bc35_acde48001122row5_col3\" class=\"data row5 col3\" >$4.12</td> \n",
       "    </tr>    <tr> \n",
       "        <th id=\"T_cffa8e68_bc7e_11e8_bc35_acde48001122level0_row6\" class=\"row_heading level0 row6\" >34-39</th> \n",
       "        <td id=\"T_cffa8e68_bc7e_11e8_bc35_acde48001122row6_col0\" class=\"data row6 col0\" >41</td> \n",
       "        <td id=\"T_cffa8e68_bc7e_11e8_bc35_acde48001122row6_col1\" class=\"data row6 col1\" >$3.60</td> \n",
       "        <td id=\"T_cffa8e68_bc7e_11e8_bc35_acde48001122row6_col2\" class=\"data row6 col2\" >$147.67</td> \n",
       "        <td id=\"T_cffa8e68_bc7e_11e8_bc35_acde48001122row6_col3\" class=\"data row6 col3\" >$4.76</td> \n",
       "    </tr>    <tr> \n",
       "        <th id=\"T_cffa8e68_bc7e_11e8_bc35_acde48001122level0_row7\" class=\"row_heading level0 row7\" >40+</th> \n",
       "        <td id=\"T_cffa8e68_bc7e_11e8_bc35_acde48001122row7_col0\" class=\"data row7 col0\" >13</td> \n",
       "        <td id=\"T_cffa8e68_bc7e_11e8_bc35_acde48001122row7_col1\" class=\"data row7 col1\" >$2.94</td> \n",
       "        <td id=\"T_cffa8e68_bc7e_11e8_bc35_acde48001122row7_col2\" class=\"data row7 col2\" >$38.24</td> \n",
       "        <td id=\"T_cffa8e68_bc7e_11e8_bc35_acde48001122row7_col3\" class=\"data row7 col3\" >$3.19</td> \n",
       "    </tr></tbody> \n",
       "</table> "
      ],
      "text/plain": [
       "<pandas.io.formats.style.Styler at 0x10a36a5f8>"
      ]
     },
     "execution_count": 9,
     "metadata": {},
     "output_type": "execute_result"
    }
   ],
   "source": [
    "# Purchase Count \"pc\"\n",
    "pc10 = purchase_data[purchase_data[\"Age\"] < 10].count()[0]\n",
    "pc14 = purchase_data[(purchase_data[\"Age\"] >= 10) & (purchase_data[\"Age\"] <= 14)].count()[0]\n",
    "pc19 = purchase_data[(purchase_data[\"Age\"] >= 15) & (purchase_data[\"Age\"] <= 19)].count()[0]\n",
    "pc24 = purchase_data[(purchase_data[\"Age\"] >= 20) & (purchase_data[\"Age\"] <= 24)].count()[0]\n",
    "pc29 = purchase_data[(purchase_data[\"Age\"] >= 25) & (purchase_data[\"Age\"] <= 29)].count()[0]\n",
    "pc34 = purchase_data[(purchase_data[\"Age\"] >= 30) & (purchase_data[\"Age\"] <= 34)].count()[0]\n",
    "pc39 = purchase_data[(purchase_data[\"Age\"] >= 35) & (purchase_data[\"Age\"] <= 39)].count()[0]\n",
    "pc40 = purchase_data[purchase_data[\"Age\"] >= 40].count()[0]\n",
    "\n",
    "# Defining Purchase Bins\n",
    "purchases = [pc10, pc14, pc19, pc24, pc29, pc34, pc39, pc40]\n",
    "\n",
    "# Total Purchase Value \"tpv\"\n",
    "tpv10 = purchase_data.loc[purchase_data['Age'] < 10, 'Price'].sum()\n",
    "tpv14 = purchase_data.loc[(purchase_data['Age'] >= 10) & (purchase_data['Age'] <=14), 'Price'].sum()\n",
    "tpv19 = purchase_data.loc[(purchase_data['Age'] >= 15) & (purchase_data['Age'] <=19), 'Price'].sum()\n",
    "tpv24 = purchase_data.loc[(purchase_data['Age'] >= 20) & (purchase_data['Age'] <=24), 'Price'].sum()\n",
    "tpv29 = purchase_data.loc[(purchase_data['Age'] >= 25) & (purchase_data['Age'] <=29), 'Price'].sum()\n",
    "tpv34 = purchase_data.loc[(purchase_data['Age'] >= 30) & (purchase_data['Age'] <=34), 'Price'].sum()\n",
    "tpv39 = purchase_data.loc[(purchase_data['Age'] >= 35) & (purchase_data['Age'] <=39), 'Price'].sum()\n",
    "tpv40 = purchase_data.loc[purchase_data['Age'] >= 40, 'Price'].sum()\n",
    "\n",
    "# Defining Totals Bins\n",
    "totals = [tpv10, tpv14, tpv19, tpv24, tpv29, tpv34, tpv39, tpv40]\n",
    "\n",
    "# Average Purchase Price\n",
    "avg_price_age = [tpv10/pc10, tpv14/pc14, tpv19/pc19, tpv24/pc24,tpv29/pc29,\n",
    "              tpv34/pc34, tpv39/pc39, tpv40/pc40]\n",
    "\n",
    "# Average Totals per Person\n",
    "avg_t_p = [tpv10/age10, tpv14/age14, tpv19/age19, tpv24/age24, tpv29/age29, tpv34/age34,\n",
    "           tpv39/age39, tpv40/age40]\n",
    "\n",
    "# Creating dictionary\n",
    "puchase_analysis_age = {\n",
    "    \"Purchase Count\": purchases,\n",
    "    \"Average Purchase Price\": avg_price_age,\n",
    "    \"Total Purchase Value\": totals,\n",
    "    \"Avg Total Purchase per Person\": avg_t_p\n",
    "}\n",
    "\n",
    "# Creating DataFrame & setting index\n",
    "purchase_analysis_age_df = pd.DataFrame(puchase_analysis_age)\n",
    "purchase_analysis_age_df = purchase_analysis_age_df[['Purchase Count', 'Average Purchase Price', 'Total Purchase Value',\n",
    "                                                 'Avg Total Purchase per Person']]\n",
    "purchase_analysis_age_df.index = ([\"<10\", \"10-14\",\"15-19\",\"20-24\",\"25-29\",\"30-34\",\"34-39\",\"40+\"])\n",
    "\n",
    "# Formatting Prices\n",
    "purchase_analysis_age_df.style.format({\"Average Purchase Price\": \"${:.2f}\", \"Avg Total Purchase per Person\": \"${:.2f}\",\n",
    "                                     \"Total Purchase Value\":\"${:.2f}\"})\n"
   ]
  },
  {
   "cell_type": "markdown",
   "metadata": {},
   "source": [
    "## Top Spenders"
   ]
  },
  {
   "cell_type": "code",
   "execution_count": 10,
   "metadata": {},
   "outputs": [
    {
     "data": {
      "text/html": [
       "<style  type=\"text/css\" >\n",
       "</style>  \n",
       "<table id=\"T_d04f7950_bc7e_11e8_ae42_acde48001122\" > \n",
       "<thead>    <tr> \n",
       "        <th class=\"blank level0\" ></th> \n",
       "        <th class=\"col_heading level0 col0\" >Purchase Count</th> \n",
       "        <th class=\"col_heading level0 col1\" >Average Purchase Price</th> \n",
       "        <th class=\"col_heading level0 col2\" >Total Purchase Value</th> \n",
       "    </tr>    <tr> \n",
       "        <th class=\"index_name level0\" >SN</th> \n",
       "        <th class=\"blank\" ></th> \n",
       "        <th class=\"blank\" ></th> \n",
       "        <th class=\"blank\" ></th> \n",
       "    </tr></thead> \n",
       "<tbody>    <tr> \n",
       "        <th id=\"T_d04f7950_bc7e_11e8_ae42_acde48001122level0_row0\" class=\"row_heading level0 row0\" >Lisosia93</th> \n",
       "        <td id=\"T_d04f7950_bc7e_11e8_ae42_acde48001122row0_col0\" class=\"data row0 col0\" >5</td> \n",
       "        <td id=\"T_d04f7950_bc7e_11e8_ae42_acde48001122row0_col1\" class=\"data row0 col1\" >$3.79</td> \n",
       "        <td id=\"T_d04f7950_bc7e_11e8_ae42_acde48001122row0_col2\" class=\"data row0 col2\" >$18.96</td> \n",
       "    </tr>    <tr> \n",
       "        <th id=\"T_d04f7950_bc7e_11e8_ae42_acde48001122level0_row1\" class=\"row_heading level0 row1\" >Idastidru52</th> \n",
       "        <td id=\"T_d04f7950_bc7e_11e8_ae42_acde48001122row1_col0\" class=\"data row1 col0\" >4</td> \n",
       "        <td id=\"T_d04f7950_bc7e_11e8_ae42_acde48001122row1_col1\" class=\"data row1 col1\" >$3.86</td> \n",
       "        <td id=\"T_d04f7950_bc7e_11e8_ae42_acde48001122row1_col2\" class=\"data row1 col2\" >$15.45</td> \n",
       "    </tr>    <tr> \n",
       "        <th id=\"T_d04f7950_bc7e_11e8_ae42_acde48001122level0_row2\" class=\"row_heading level0 row2\" >Chamjask73</th> \n",
       "        <td id=\"T_d04f7950_bc7e_11e8_ae42_acde48001122row2_col0\" class=\"data row2 col0\" >3</td> \n",
       "        <td id=\"T_d04f7950_bc7e_11e8_ae42_acde48001122row2_col1\" class=\"data row2 col1\" >$4.61</td> \n",
       "        <td id=\"T_d04f7950_bc7e_11e8_ae42_acde48001122row2_col2\" class=\"data row2 col2\" >$13.83</td> \n",
       "    </tr>    <tr> \n",
       "        <th id=\"T_d04f7950_bc7e_11e8_ae42_acde48001122level0_row3\" class=\"row_heading level0 row3\" >Iral74</th> \n",
       "        <td id=\"T_d04f7950_bc7e_11e8_ae42_acde48001122row3_col0\" class=\"data row3 col0\" >4</td> \n",
       "        <td id=\"T_d04f7950_bc7e_11e8_ae42_acde48001122row3_col1\" class=\"data row3 col1\" >$3.40</td> \n",
       "        <td id=\"T_d04f7950_bc7e_11e8_ae42_acde48001122row3_col2\" class=\"data row3 col2\" >$13.62</td> \n",
       "    </tr>    <tr> \n",
       "        <th id=\"T_d04f7950_bc7e_11e8_ae42_acde48001122level0_row4\" class=\"row_heading level0 row4\" >Iskadarya95</th> \n",
       "        <td id=\"T_d04f7950_bc7e_11e8_ae42_acde48001122row4_col0\" class=\"data row4 col0\" >3</td> \n",
       "        <td id=\"T_d04f7950_bc7e_11e8_ae42_acde48001122row4_col1\" class=\"data row4 col1\" >$4.37</td> \n",
       "        <td id=\"T_d04f7950_bc7e_11e8_ae42_acde48001122row4_col2\" class=\"data row4 col2\" >$13.10</td> \n",
       "    </tr></tbody> \n",
       "</table> "
      ],
      "text/plain": [
       "<pandas.io.formats.style.Styler at 0x10c615908>"
      ]
     },
     "execution_count": 10,
     "metadata": {},
     "output_type": "execute_result"
    }
   ],
   "source": [
    "# Calculating Purchase Count\n",
    "players_purchase_count = purchase_data.groupby('SN').count()['Price'].rename(\"Purchase Count\")\n",
    "\n",
    "# Calculating Average Purchase Price\n",
    "players_average_price = purchase_data.groupby('SN').mean()['Price'].rename(\"Average Purchase Price\")\n",
    "\n",
    "# Calculating Total Purchase Value\n",
    "players_total_value = purchase_data.groupby('SN').sum()['Price'].rename(\"Total Purchase Value\")\n",
    "\n",
    "# Creating DataFrame and Formatting\n",
    "total_players = pd.DataFrame({\"Purchase Count\" : players_purchase_count,\n",
    "                              \"Average Purchase Price\" : players_average_price,\n",
    "                              \"Total Purchase Value\" : players_total_value})\n",
    "\n",
    "total_players = total_players.sort_values(\"Total Purchase Value\", ascending=False)\n",
    "\n",
    "total_players.head().style.format({\"Average Purchase Price\" : '${:.2f}',\n",
    "                                   \"Total Purchase Value\" : '${:.2f}'})\n"
   ]
  },
  {
   "cell_type": "markdown",
   "metadata": {},
   "source": [
    "## Most Popular Items"
   ]
  },
  {
   "cell_type": "code",
   "execution_count": 11,
   "metadata": {},
   "outputs": [
    {
     "data": {
      "text/html": [
       "<style  type=\"text/css\" >\n",
       "</style>  \n",
       "<table id=\"T_d0bdd0ee_bc7e_11e8_b095_acde48001122\" > \n",
       "<thead>    <tr> \n",
       "        <th class=\"blank\" ></th> \n",
       "        <th class=\"blank level0\" ></th> \n",
       "        <th class=\"col_heading level0 col0\" >Purchase Count</th> \n",
       "        <th class=\"col_heading level0 col1\" >Item Price</th> \n",
       "        <th class=\"col_heading level0 col2\" >Total Purchase Value</th> \n",
       "    </tr>    <tr> \n",
       "        <th class=\"index_name level0\" >Item ID</th> \n",
       "        <th class=\"index_name level1\" >Item Name</th> \n",
       "        <th class=\"blank\" ></th> \n",
       "        <th class=\"blank\" ></th> \n",
       "        <th class=\"blank\" ></th> \n",
       "    </tr></thead> \n",
       "<tbody>    <tr> \n",
       "        <th id=\"T_d0bdd0ee_bc7e_11e8_b095_acde48001122level0_row0\" class=\"row_heading level0 row0\" >178</th> \n",
       "        <th id=\"T_d0bdd0ee_bc7e_11e8_b095_acde48001122level1_row0\" class=\"row_heading level1 row0\" >Oathbreaker, Last Hope of the Breaking Storm</th> \n",
       "        <td id=\"T_d0bdd0ee_bc7e_11e8_b095_acde48001122row0_col0\" class=\"data row0 col0\" >12</td> \n",
       "        <td id=\"T_d0bdd0ee_bc7e_11e8_b095_acde48001122row0_col1\" class=\"data row0 col1\" >$4.23</td> \n",
       "        <td id=\"T_d0bdd0ee_bc7e_11e8_b095_acde48001122row0_col2\" class=\"data row0 col2\" >$50.76</td> \n",
       "    </tr>    <tr> \n",
       "        <th id=\"T_d0bdd0ee_bc7e_11e8_b095_acde48001122level0_row1\" class=\"row_heading level0 row1\" >145</th> \n",
       "        <th id=\"T_d0bdd0ee_bc7e_11e8_b095_acde48001122level1_row1\" class=\"row_heading level1 row1\" >Fiery Glass Crusader</th> \n",
       "        <td id=\"T_d0bdd0ee_bc7e_11e8_b095_acde48001122row1_col0\" class=\"data row1 col0\" >9</td> \n",
       "        <td id=\"T_d0bdd0ee_bc7e_11e8_b095_acde48001122row1_col1\" class=\"data row1 col1\" >$4.58</td> \n",
       "        <td id=\"T_d0bdd0ee_bc7e_11e8_b095_acde48001122row1_col2\" class=\"data row1 col2\" >$41.22</td> \n",
       "    </tr>    <tr> \n",
       "        <th id=\"T_d0bdd0ee_bc7e_11e8_b095_acde48001122level0_row2\" class=\"row_heading level0 row2\" >108</th> \n",
       "        <th id=\"T_d0bdd0ee_bc7e_11e8_b095_acde48001122level1_row2\" class=\"row_heading level1 row2\" >Extraction, Quickblade Of Trembling Hands</th> \n",
       "        <td id=\"T_d0bdd0ee_bc7e_11e8_b095_acde48001122row2_col0\" class=\"data row2 col0\" >9</td> \n",
       "        <td id=\"T_d0bdd0ee_bc7e_11e8_b095_acde48001122row2_col1\" class=\"data row2 col1\" >$3.53</td> \n",
       "        <td id=\"T_d0bdd0ee_bc7e_11e8_b095_acde48001122row2_col2\" class=\"data row2 col2\" >$31.77</td> \n",
       "    </tr>    <tr> \n",
       "        <th id=\"T_d0bdd0ee_bc7e_11e8_b095_acde48001122level0_row3\" class=\"row_heading level0 row3\" >82</th> \n",
       "        <th id=\"T_d0bdd0ee_bc7e_11e8_b095_acde48001122level1_row3\" class=\"row_heading level1 row3\" >Nirvana</th> \n",
       "        <td id=\"T_d0bdd0ee_bc7e_11e8_b095_acde48001122row3_col0\" class=\"data row3 col0\" >9</td> \n",
       "        <td id=\"T_d0bdd0ee_bc7e_11e8_b095_acde48001122row3_col1\" class=\"data row3 col1\" >$4.90</td> \n",
       "        <td id=\"T_d0bdd0ee_bc7e_11e8_b095_acde48001122row3_col2\" class=\"data row3 col2\" >$44.10</td> \n",
       "    </tr>    <tr> \n",
       "        <th id=\"T_d0bdd0ee_bc7e_11e8_b095_acde48001122level0_row4\" class=\"row_heading level0 row4\" >19</th> \n",
       "        <th id=\"T_d0bdd0ee_bc7e_11e8_b095_acde48001122level1_row4\" class=\"row_heading level1 row4\" >Pursuit, Cudgel of Necromancy</th> \n",
       "        <td id=\"T_d0bdd0ee_bc7e_11e8_b095_acde48001122row4_col0\" class=\"data row4 col0\" >8</td> \n",
       "        <td id=\"T_d0bdd0ee_bc7e_11e8_b095_acde48001122row4_col1\" class=\"data row4 col1\" >$1.02</td> \n",
       "        <td id=\"T_d0bdd0ee_bc7e_11e8_b095_acde48001122row4_col2\" class=\"data row4 col2\" >$8.16</td> \n",
       "    </tr></tbody> \n",
       "</table> "
      ],
      "text/plain": [
       "<pandas.io.formats.style.Styler at 0x10d9a1710>"
      ]
     },
     "execution_count": 11,
     "metadata": {},
     "output_type": "execute_result"
    }
   ],
   "source": [
    "# Retrieving and gouping by \"Item ID\" and \"Item Name\" and calculating:\n",
    "\n",
    "# Purchase Count\n",
    "items_purchase_count = purchase_data.groupby([\"Item ID\", \"Item Name\"]).count()[\"Price\"].rename(\"Purchase Count\")\n",
    "\n",
    "# Item Price\n",
    "items_average_price = purchase_data.groupby([\"Item ID\", \"Item Name\"]).mean()[\"Price\"].rename(\"Item Price\")\n",
    "\n",
    "# Total purchase value\n",
    "items_value_total = purchase_data.groupby([\"Item ID\", \"Item Name\"]).sum()[\"Price\"].rename(\"Total Purchase Value\")\n",
    "\n",
    "# crating the Dataframe and Styling\n",
    "items_purchased = pd.DataFrame({\"Purchase Count\":items_purchase_count,\n",
    "                                   \"Item Price\":items_average_price,\n",
    "                                   \"Total Purchase Value\":items_value_total})\n",
    "\n",
    "items_purchased = items_purchased.sort_values(\"Purchase Count\", ascending=False)\n",
    "\n",
    "items_purchased.head().style.format({\"Item Price\" : '${:.2f}',\n",
    "                                   \"Total Purchase Value\" : '${:.2f}'})\n"
   ]
  },
  {
   "cell_type": "markdown",
   "metadata": {},
   "source": [
    "## Most Profitable Items"
   ]
  },
  {
   "cell_type": "code",
   "execution_count": 12,
   "metadata": {
    "scrolled": true
   },
   "outputs": [
    {
     "data": {
      "text/html": [
       "<style  type=\"text/css\" >\n",
       "</style>  \n",
       "<table id=\"T_d11db4fa_bc7e_11e8_8ee5_acde48001122\" > \n",
       "<thead>    <tr> \n",
       "        <th class=\"blank\" ></th> \n",
       "        <th class=\"blank level0\" ></th> \n",
       "        <th class=\"col_heading level0 col0\" >Purchase Count</th> \n",
       "        <th class=\"col_heading level0 col1\" >Item Price</th> \n",
       "        <th class=\"col_heading level0 col2\" >Total Purchase Value</th> \n",
       "    </tr>    <tr> \n",
       "        <th class=\"index_name level0\" >Item ID</th> \n",
       "        <th class=\"index_name level1\" >Item Name</th> \n",
       "        <th class=\"blank\" ></th> \n",
       "        <th class=\"blank\" ></th> \n",
       "        <th class=\"blank\" ></th> \n",
       "    </tr></thead> \n",
       "<tbody>    <tr> \n",
       "        <th id=\"T_d11db4fa_bc7e_11e8_8ee5_acde48001122level0_row0\" class=\"row_heading level0 row0\" >178</th> \n",
       "        <th id=\"T_d11db4fa_bc7e_11e8_8ee5_acde48001122level1_row0\" class=\"row_heading level1 row0\" >Oathbreaker, Last Hope of the Breaking Storm</th> \n",
       "        <td id=\"T_d11db4fa_bc7e_11e8_8ee5_acde48001122row0_col0\" class=\"data row0 col0\" >12</td> \n",
       "        <td id=\"T_d11db4fa_bc7e_11e8_8ee5_acde48001122row0_col1\" class=\"data row0 col1\" >$4.23</td> \n",
       "        <td id=\"T_d11db4fa_bc7e_11e8_8ee5_acde48001122row0_col2\" class=\"data row0 col2\" >$50.76</td> \n",
       "    </tr>    <tr> \n",
       "        <th id=\"T_d11db4fa_bc7e_11e8_8ee5_acde48001122level0_row1\" class=\"row_heading level0 row1\" >82</th> \n",
       "        <th id=\"T_d11db4fa_bc7e_11e8_8ee5_acde48001122level1_row1\" class=\"row_heading level1 row1\" >Nirvana</th> \n",
       "        <td id=\"T_d11db4fa_bc7e_11e8_8ee5_acde48001122row1_col0\" class=\"data row1 col0\" >9</td> \n",
       "        <td id=\"T_d11db4fa_bc7e_11e8_8ee5_acde48001122row1_col1\" class=\"data row1 col1\" >$4.90</td> \n",
       "        <td id=\"T_d11db4fa_bc7e_11e8_8ee5_acde48001122row1_col2\" class=\"data row1 col2\" >$44.10</td> \n",
       "    </tr>    <tr> \n",
       "        <th id=\"T_d11db4fa_bc7e_11e8_8ee5_acde48001122level0_row2\" class=\"row_heading level0 row2\" >145</th> \n",
       "        <th id=\"T_d11db4fa_bc7e_11e8_8ee5_acde48001122level1_row2\" class=\"row_heading level1 row2\" >Fiery Glass Crusader</th> \n",
       "        <td id=\"T_d11db4fa_bc7e_11e8_8ee5_acde48001122row2_col0\" class=\"data row2 col0\" >9</td> \n",
       "        <td id=\"T_d11db4fa_bc7e_11e8_8ee5_acde48001122row2_col1\" class=\"data row2 col1\" >$4.58</td> \n",
       "        <td id=\"T_d11db4fa_bc7e_11e8_8ee5_acde48001122row2_col2\" class=\"data row2 col2\" >$41.22</td> \n",
       "    </tr>    <tr> \n",
       "        <th id=\"T_d11db4fa_bc7e_11e8_8ee5_acde48001122level0_row3\" class=\"row_heading level0 row3\" >92</th> \n",
       "        <th id=\"T_d11db4fa_bc7e_11e8_8ee5_acde48001122level1_row3\" class=\"row_heading level1 row3\" >Final Critic</th> \n",
       "        <td id=\"T_d11db4fa_bc7e_11e8_8ee5_acde48001122row3_col0\" class=\"data row3 col0\" >8</td> \n",
       "        <td id=\"T_d11db4fa_bc7e_11e8_8ee5_acde48001122row3_col1\" class=\"data row3 col1\" >$4.88</td> \n",
       "        <td id=\"T_d11db4fa_bc7e_11e8_8ee5_acde48001122row3_col2\" class=\"data row3 col2\" >$39.04</td> \n",
       "    </tr>    <tr> \n",
       "        <th id=\"T_d11db4fa_bc7e_11e8_8ee5_acde48001122level0_row4\" class=\"row_heading level0 row4\" >103</th> \n",
       "        <th id=\"T_d11db4fa_bc7e_11e8_8ee5_acde48001122level1_row4\" class=\"row_heading level1 row4\" >Singed Scalpel</th> \n",
       "        <td id=\"T_d11db4fa_bc7e_11e8_8ee5_acde48001122row4_col0\" class=\"data row4 col0\" >8</td> \n",
       "        <td id=\"T_d11db4fa_bc7e_11e8_8ee5_acde48001122row4_col1\" class=\"data row4 col1\" >$4.35</td> \n",
       "        <td id=\"T_d11db4fa_bc7e_11e8_8ee5_acde48001122row4_col2\" class=\"data row4 col2\" >$34.80</td> \n",
       "    </tr></tbody> \n",
       "</table> "
      ],
      "text/plain": [
       "<pandas.io.formats.style.Styler at 0x10d9945f8>"
      ]
     },
     "execution_count": 12,
     "metadata": {},
     "output_type": "execute_result"
    }
   ],
   "source": [
    "# Identify the 5 most profitable items\n",
    "items_purchased = items_purchased.sort_values(\"Total Purchase Value\", ascending=False)\n",
    "\n",
    "items_purchased.head().style.format({\"Item Price\" : '${:.2f}',\n",
    "                                   \"Total Purchase Value\" : '${:.2f}'})\n"
   ]
  },
  {
   "cell_type": "code",
   "execution_count": null,
   "metadata": {},
   "outputs": [],
   "source": []
  },
  {
   "cell_type": "code",
   "execution_count": null,
   "metadata": {},
   "outputs": [],
   "source": []
  },
  {
   "cell_type": "code",
   "execution_count": null,
   "metadata": {},
   "outputs": [],
   "source": []
  },
  {
   "cell_type": "code",
   "execution_count": null,
   "metadata": {},
   "outputs": [],
   "source": []
  }
 ],
 "metadata": {
  "anaconda-cloud": {},
  "kernel_info": {
   "name": "python3"
  },
  "kernelspec": {
   "display_name": "Python 3",
   "language": "python",
   "name": "python3"
  },
  "language_info": {
   "codemirror_mode": {
    "name": "ipython",
    "version": 3
   },
   "file_extension": ".py",
   "mimetype": "text/x-python",
   "name": "python",
   "nbconvert_exporter": "python",
   "pygments_lexer": "ipython3",
   "version": "3.6.5"
  },
  "nteract": {
   "version": "0.2.0"
  }
 },
 "nbformat": 4,
 "nbformat_minor": 2
}
