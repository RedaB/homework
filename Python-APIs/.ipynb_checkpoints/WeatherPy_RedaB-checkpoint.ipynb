{
 "cells": [
  {
   "cell_type": "code",
   "execution_count": 13,
   "metadata": {
    "scrolled": true
   },
   "outputs": [],
   "source": [
    "# Dependencies and Setup\n",
    "import matplotlib.pyplot as plt\n",
    "import pandas as pd\n",
    "import numpy as np\n",
    "import requests\n",
    "import time\n",
    "\n",
    "# Import API key\n",
    "import api_keys\n",
    "\n",
    "# Incorporated citipy to determine city based on latitude and longitude\n",
    "from citipy import citipy\n",
    "\n",
    "# Output File (CSV)\n",
    "output_data_file = \"output_data/cities.csv\"\n",
    "\n",
    "# Range of latitudes and longitudes\n",
    "lat_range = (-90, 90)\n",
    "lng_range = (-180, 180)"
   ]
  },
  {
   "cell_type": "markdown",
   "metadata": {},
   "source": [
    "## Generate Cities List"
   ]
  },
  {
   "cell_type": "code",
   "execution_count": 16,
   "metadata": {},
   "outputs": [
    {
     "data": {
      "text/plain": [
       "613"
      ]
     },
     "execution_count": 16,
     "metadata": {},
     "output_type": "execute_result"
    }
   ],
   "source": [
    "# List for holding lat_lngs and cities\n",
    "lat_lngs = []\n",
    "cities = []\n",
    "\n",
    "# Create a set of random lat and lng combinations\n",
    "lats = np.random.uniform(low=-90.000, high=90.000, size=1500)\n",
    "lngs = np.random.uniform(low=-180.000, high=180.000, size=1500)\n",
    "lat_lngs = zip(lats, lngs)\n",
    "\n",
    "# Identify nearest city for each lat, lng combination\n",
    "for lat_lng in lat_lngs:\n",
    "    city = citipy.nearest_city(lat_lng[0], lat_lng[1]).city_name\n",
    "    \n",
    "    # If the city is unique, then add it to a our cities list\n",
    "    if city not in cities:\n",
    "        cities.append(city)\n",
    "\n",
    "# Print the city count to confirm sufficient count\n",
    "len(cities)"
   ]
  },
  {
   "cell_type": "markdown",
   "metadata": {},
   "source": [
    "## Perform API Calls"
   ]
  },
  {
   "cell_type": "code",
   "execution_count": 5,
   "metadata": {},
   "outputs": [
    {
     "name": "stdout",
     "output_type": "stream",
     "text": [
      "http://api.openweathermap.org/data/2.5/weather?units=Imperial&APPID=44c296288a6fdbb018e525363e5b5129\n"
     ]
    }
   ],
   "source": [
    "# OpenWeatherMap API Key\n",
    "api_key = api_keys.api_key\n",
    "\n",
    "# Starting URL for Weather Map API Call\n",
    "url = \"http://api.openweathermap.org/data/2.5/weather?units=Imperial&APPID=\" + '44c296288a6fdbb018e525363e5b5129'\n",
    "print(url)\n",
    "\n"
   ]
  },
  {
   "cell_type": "code",
   "execution_count": 6,
   "metadata": {},
   "outputs": [],
   "source": [
    "\n",
    "api_key = \"44c296288a6fdbb018e525363e5b5129\"\n",
    "url = \"http://api.openweathermap.org/data/2.5/weather?\"\n",
    "units = \"imperial\"\n",
    "\n",
    "# Build partial query URL\n",
    "query_url = url + \"appid=\" + api_key + \"&units=\" + units + \"&q=\"\n",
    "In [3]:\n",
    "# Select random coodindates and unique cities\n",
    "lat = []\n",
    "lon = []\n",
    "for x in range(1500):\n",
    "    lat.append(np.random.uniform(-90, 90,1))\n",
    "    lon.append(np.random.uniform(-180, 180,1))\n",
    "coordinates = list(zip(lat,lon))\n",
    "    \n",
    "cities = []\n",
    "for coordinate_pair in coordinates:\n",
    "    lat, lon = coordinate_pair\n",
    "    city = citipy.nearest_city(lat, lon)\n",
    "    cities.append(city.city_name)\n",
    "    \n",
    "cities = list(set(cities))\n",
    "In [4]:\n",
    "weather_data = []\n",
    "\n",
    "# Loop through the list of cities and perform a request for data on each\n",
    "for city in cities:\n",
    "    response = req.get(query_url + city).json()\n",
    "    weather_data.append(response)\n",
    "In [5]:\n",
    "# Stores city data\n",
    "name = []\n",
    "date = []\n",
    "temp = []\n",
    "humidity = []\n",
    "windspeed = []\n",
    "cloudiness = []\n",
    "latitude = []\n",
    "longitude = []\n",
    "country = []\n",
    "\n",
    "for city in weather_data:\n",
    "    try:\n",
    "        name.append(city['name'])\n",
    "        date.append(city['dt'])\n",
    "        temp.append(city['main']['temp_max'])\n",
    "        humidity.append(city['main']['humidity'])\n",
    "        windspeed.append(city['wind']['speed'])\n",
    "        cloudiness.append(city['clouds']['all'])\n",
    "        latitude.append(city['coord']['lat'])\n",
    "        longitude.append(city['coord']['lon'])\n",
    "        country.append(city['sys']['country'])\n",
    "    except:\n",
    "            \n",
    "        continue\n",
    "In [20]:\n",
    "# Display the City Data Frame \n",
    "citydata = {\"City\": name, \"Cloudiness\":cloudiness, \"Country\": country, \"Date\": date,\"Humidity\": humidity, \"Lat\": latitude,\n",
    "           \"Lng\": longitude, \"Max Temp\": temp, \"Wind Speed\": windspeed} \n",
    "citydata = pd.DataFrame(citydata)\n",
    "citydata.to_csv('City Data.csv')\n",
    "citydata.head()\n",
    "Out[20]:\n",
    "City\tCloudiness\tCountry\tDate\tHumidity\tLat\tLng\tMax Temp\tWind Speed\n",
    "0\tBria\t8\tCF\t1515292252\t63\t6.54\t21.99\t56.17\t6.87\n",
    "1\tVaini\t0\tIN\t1515292253\t78\t15.34\t74.49\t66.61\t2.62\n",
    "2\tBelyy Yar\t75\tRU\t1515290400\t77\t53.60\t91.39\t-2.21\t1.50\n",
    "3\tPisco\t0\tPE\t1515290400\t83\t-13.71\t-76.20\t69.80\t13.87\n",
    "4\tBasoko\t88\tCD\t1515292255\t58\t1.23\t23.61\t79.75\t5.75\n",
    "In [21]:\n",
    "# Temperature (F) vs. Latitude plot\n",
    "plt.scatter(citydata[\"Lat\"], citydata[\"Max Temp\"], marker=\"o\", color=\"navy\")\n",
    "\n",
    "# Incorporate the other graph properties\n",
    "plt.title(\"City Latitude plot vs. Max Temperature (F)\")\n",
    "plt.ylabel(\"Max Temperature (F)\")\n",
    "plt.xlabel(\"Latitude\")\n",
    "plt.grid(True)\n",
    "\n",
    "# Save the figure\n",
    "plt.savefig(\"MaxTemperatureLatitude.png\")\n",
    "\n",
    "# Show plot\n",
    "plt.show()\n",
    "\n",
    "In [19]:\n",
    "# Humidity (%) vs. Latitude plot\n",
    "plt.scatter(citydata[\"Lat\"], citydata[\"Humidity\"], marker=\"o\", color=\"navy\")\n",
    "\n",
    "# Incorporate the other graph properties\n",
    "plt.title(\"City Latitude plot vs. Humidity (%)\")\n",
    "plt.ylabel(\"Humidity (%)\")\n",
    "plt.xlabel(\"Latitude\")\n",
    "plt.grid(True)\n",
    "\n",
    "# Save the figure\n",
    "plt.savefig(\"HumidityLatitude.png\")\n",
    "\n",
    "# Show plot\n",
    "plt.show()\n",
    "\n",
    "In [10]:\n",
    "# Cloudiness (%) vs. Latitude\n",
    "plt.scatter(citydata[\"Lat\"], citydata[\"Cloudiness\"], marker=\"o\", color=\"navy\")\n",
    "\n",
    "# Incorporate the other graph properties\n",
    "plt.title(\"City Latitude plot vs. Cloudiness (%)\")\n",
    "plt.ylabel(\"Cloudiness (%)\")\n",
    "plt.xlabel(\"Latitude\")\n",
    "plt.grid(True)\n",
    "\n",
    "# Save the figure\n",
    "plt.savefig(\"CloudinessLatitude.png\")\n",
    "\n",
    "# Show plot\n",
    "plt.show()\n",
    "\n",
    "In [11]:\n",
    "# Wind Speed (mph) vs. Latitude plot\n",
    "plt.scatter(citydata[\"Lat\"], citydata[\"Wind Speed\"], marker=\"o\", color=\"navy\")\n",
    "\n",
    "# Incorporate the other graph properties\n",
    "plt.title(\"City Latitude plot vs. Wind Speed (mph)\")\n",
    "plt.ylabel(\"Windspeed (mph)\")\n",
    "plt.xlabel(\"Latitude\")\n",
    "plt.grid(True)\n",
    "\n",
    "# Save the figure\n",
    "plt.savefig(\"WindSpeedLatitude.png\")\n",
    "\n",
    "# Show plot\n",
    "plt.show()\n"
   ]
  },
  {
   "cell_type": "markdown",
   "metadata": {},
   "source": [
    "## Observations:"
   ]
  },
  {
   "cell_type": "markdown",
   "metadata": {},
   "source": [
    "1- Temperatures are higher in cities close to the equator.\n",
    "\n",
    "3- Cloudiness % has no correlation to proximity to the equator.\n",
    "\n",
    "3- Windspeed (mph) is higher north of the equator.\n",
    "\n"
   ]
  },
  {
   "cell_type": "code",
   "execution_count": null,
   "metadata": {},
   "outputs": [],
   "source": []
  }
 ],
 "metadata": {
  "anaconda-cloud": {},
  "kernelspec": {
   "display_name": "Python 3",
   "language": "python",
   "name": "python3"
  },
  "language_info": {
   "codemirror_mode": {
    "name": "ipython",
    "version": 3
   },
   "file_extension": ".py",
   "mimetype": "text/x-python",
   "name": "python",
   "nbconvert_exporter": "python",
   "pygments_lexer": "ipython3",
   "version": "3.6.5"
  }
 },
 "nbformat": 4,
 "nbformat_minor": 1
}
